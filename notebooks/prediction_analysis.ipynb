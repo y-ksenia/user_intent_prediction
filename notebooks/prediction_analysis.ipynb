{
 "cells": [
  {
   "cell_type": "code",
   "execution_count": 27,
   "metadata": {
    "ExecuteTime": {
     "end_time": "2020-08-24T22:00:25.489500Z",
     "start_time": "2020-08-24T22:00:25.468677Z"
    }
   },
   "outputs": [],
   "source": [
    "import sys\n",
    "import pickle\n",
    "import pandas as pd"
   ]
  },
  {
   "cell_type": "code",
   "execution_count": 28,
   "metadata": {
    "ExecuteTime": {
     "end_time": "2020-08-24T22:00:25.717293Z",
     "start_time": "2020-08-24T22:00:25.692458Z"
    }
   },
   "outputs": [
    {
     "name": "stdout",
     "output_type": "stream",
     "text": [
      "The autoreload extension is already loaded. To reload it, use:\n",
      "  %reload_ext autoreload\n"
     ]
    }
   ],
   "source": [
    "%load_ext autoreload\n",
    "%autoreload 2\n",
    "\n",
    "sys.path.append('../src')\n",
    "import visualization, calc_metrics"
   ]
  },
  {
   "cell_type": "code",
   "execution_count": 29,
   "metadata": {
    "ExecuteTime": {
     "end_time": "2020-08-24T22:00:25.885355Z",
     "start_time": "2020-08-24T22:00:25.862669Z"
    }
   },
   "outputs": [],
   "source": [
    "train_period = 5"
   ]
  },
  {
   "cell_type": "code",
   "execution_count": 30,
   "metadata": {
    "ExecuteTime": {
     "end_time": "2020-08-24T22:00:26.460564Z",
     "start_time": "2020-08-24T22:00:26.383328Z"
    }
   },
   "outputs": [],
   "source": [
    "with open('../output/predictions_5min.pkl', 'rb') as f:\n",
    "    test = pickle.load(f)"
   ]
  },
  {
   "cell_type": "code",
   "execution_count": 31,
   "metadata": {
    "ExecuteTime": {
     "end_time": "2020-08-24T22:00:27.593444Z",
     "start_time": "2020-08-24T22:00:27.541361Z"
    }
   },
   "outputs": [
    {
     "data": {
      "text/plain": [
       "0.3320806655713247"
      ]
     },
     "execution_count": 31,
     "metadata": {},
     "output_type": "execute_result"
    }
   ],
   "source": [
    "test['MRR'] = test.apply(calc_metrics.find_rank, axis=1)\n",
    "test.MRR.mean()"
   ]
  },
  {
   "cell_type": "code",
   "execution_count": 32,
   "metadata": {
    "ExecuteTime": {
     "end_time": "2020-08-24T22:00:27.999546Z",
     "start_time": "2020-08-24T22:00:27.856516Z"
    }
   },
   "outputs": [],
   "source": [
    "acc, prec, recall, f1 = calc_metrics.accuracy_precision_recall(\n",
    "    test['next_apps_idx'],\n",
    "    test['preds'].values,\n",
    "    K=10\n",
    ")"
   ]
  },
  {
   "cell_type": "code",
   "execution_count": 33,
   "metadata": {
    "ExecuteTime": {
     "end_time": "2020-08-24T22:00:28.706144Z",
     "start_time": "2020-08-24T22:00:28.681032Z"
    }
   },
   "outputs": [],
   "source": [
    "cur_res = pd.DataFrame(\n",
    "    [acc.mean(axis=0), prec.mean(axis=0), recall.mean(axis=0), f1.mean(axis=0)], \n",
    "    index=['acc@K', 'prec@K', 'recall@K', 'f1@K'], \n",
    "    columns=[f'K={x+1}' for x in range(acc.shape[1])])"
   ]
  },
  {
   "cell_type": "code",
   "execution_count": 34,
   "metadata": {
    "ExecuteTime": {
     "end_time": "2020-08-24T22:00:28.924791Z",
     "start_time": "2020-08-24T22:00:28.896376Z"
    }
   },
   "outputs": [
    {
     "data": {
      "text/html": [
       "<div>\n",
       "<style scoped>\n",
       "    .dataframe tbody tr th:only-of-type {\n",
       "        vertical-align: middle;\n",
       "    }\n",
       "\n",
       "    .dataframe tbody tr th {\n",
       "        vertical-align: top;\n",
       "    }\n",
       "\n",
       "    .dataframe thead th {\n",
       "        text-align: right;\n",
       "    }\n",
       "</style>\n",
       "<table border=\"1\" class=\"dataframe\">\n",
       "  <thead>\n",
       "    <tr style=\"text-align: right;\">\n",
       "      <th></th>\n",
       "      <th>K=1</th>\n",
       "      <th>K=2</th>\n",
       "      <th>K=3</th>\n",
       "      <th>K=4</th>\n",
       "      <th>K=5</th>\n",
       "      <th>K=6</th>\n",
       "      <th>K=7</th>\n",
       "      <th>K=8</th>\n",
       "      <th>K=9</th>\n",
       "      <th>K=10</th>\n",
       "    </tr>\n",
       "  </thead>\n",
       "  <tbody>\n",
       "    <tr>\n",
       "      <th>acc@K</th>\n",
       "      <td>0.164768</td>\n",
       "      <td>0.188431</td>\n",
       "      <td>0.196480</td>\n",
       "      <td>0.218639</td>\n",
       "      <td>0.204126</td>\n",
       "      <td>0.190096</td>\n",
       "      <td>0.180505</td>\n",
       "      <td>0.170306</td>\n",
       "      <td>0.163290</td>\n",
       "      <td>0.153961</td>\n",
       "    </tr>\n",
       "    <tr>\n",
       "      <th>prec@K</th>\n",
       "      <td>0.164768</td>\n",
       "      <td>0.243646</td>\n",
       "      <td>0.255916</td>\n",
       "      <td>0.265995</td>\n",
       "      <td>0.240841</td>\n",
       "      <td>0.217207</td>\n",
       "      <td>0.200075</td>\n",
       "      <td>0.185692</td>\n",
       "      <td>0.175090</td>\n",
       "      <td>0.163190</td>\n",
       "    </tr>\n",
       "    <tr>\n",
       "      <th>recall@K</th>\n",
       "      <td>0.164768</td>\n",
       "      <td>0.287467</td>\n",
       "      <td>0.352469</td>\n",
       "      <td>0.442083</td>\n",
       "      <td>0.493865</td>\n",
       "      <td>0.527213</td>\n",
       "      <td>0.560745</td>\n",
       "      <td>0.598366</td>\n",
       "      <td>0.632826</td>\n",
       "      <td>0.655876</td>\n",
       "    </tr>\n",
       "    <tr>\n",
       "      <th>f1@K</th>\n",
       "      <td>0.164768</td>\n",
       "      <td>0.258253</td>\n",
       "      <td>0.283932</td>\n",
       "      <td>0.315306</td>\n",
       "      <td>0.306049</td>\n",
       "      <td>0.291563</td>\n",
       "      <td>0.280501</td>\n",
       "      <td>0.270405</td>\n",
       "      <td>0.262649</td>\n",
       "      <td>0.250919</td>\n",
       "    </tr>\n",
       "  </tbody>\n",
       "</table>\n",
       "</div>"
      ],
      "text/plain": [
       "               K=1       K=2       K=3       K=4       K=5       K=6  \\\n",
       "acc@K     0.164768  0.188431  0.196480  0.218639  0.204126  0.190096   \n",
       "prec@K    0.164768  0.243646  0.255916  0.265995  0.240841  0.217207   \n",
       "recall@K  0.164768  0.287467  0.352469  0.442083  0.493865  0.527213   \n",
       "f1@K      0.164768  0.258253  0.283932  0.315306  0.306049  0.291563   \n",
       "\n",
       "               K=7       K=8       K=9      K=10  \n",
       "acc@K     0.180505  0.170306  0.163290  0.153961  \n",
       "prec@K    0.200075  0.185692  0.175090  0.163190  \n",
       "recall@K  0.560745  0.598366  0.632826  0.655876  \n",
       "f1@K      0.280501  0.270405  0.262649  0.250919  "
      ]
     },
     "execution_count": 34,
     "metadata": {},
     "output_type": "execute_result"
    }
   ],
   "source": [
    "cur_res"
   ]
  },
  {
   "cell_type": "code",
   "execution_count": 35,
   "metadata": {
    "ExecuteTime": {
     "end_time": "2020-08-24T22:00:29.116450Z",
     "start_time": "2020-08-24T22:00:29.091838Z"
    }
   },
   "outputs": [],
   "source": [
    "cur_res['time_delta, min'] = train_period\n",
    "cur_res['MRR'] = np.round(test['MRR'].mean(), 3)"
   ]
  },
  {
   "cell_type": "code",
   "execution_count": 36,
   "metadata": {
    "ExecuteTime": {
     "end_time": "2020-08-24T22:01:15.928722Z",
     "start_time": "2020-08-24T22:01:15.893563Z"
    }
   },
   "outputs": [
    {
     "data": {
      "text/html": [
       "<div>\n",
       "<style scoped>\n",
       "    .dataframe tbody tr th:only-of-type {\n",
       "        vertical-align: middle;\n",
       "    }\n",
       "\n",
       "    .dataframe tbody tr th {\n",
       "        vertical-align: top;\n",
       "    }\n",
       "\n",
       "    .dataframe thead th {\n",
       "        text-align: right;\n",
       "    }\n",
       "</style>\n",
       "<table border=\"1\" class=\"dataframe\">\n",
       "  <thead>\n",
       "    <tr style=\"text-align: right;\">\n",
       "      <th></th>\n",
       "      <th></th>\n",
       "      <th></th>\n",
       "      <th>K=1</th>\n",
       "      <th>K=2</th>\n",
       "      <th>K=3</th>\n",
       "      <th>K=4</th>\n",
       "      <th>K=5</th>\n",
       "      <th>K=6</th>\n",
       "      <th>K=7</th>\n",
       "      <th>K=8</th>\n",
       "      <th>K=9</th>\n",
       "      <th>K=10</th>\n",
       "    </tr>\n",
       "    <tr>\n",
       "      <th>time_delta, min</th>\n",
       "      <th>MRR</th>\n",
       "      <th></th>\n",
       "      <th></th>\n",
       "      <th></th>\n",
       "      <th></th>\n",
       "      <th></th>\n",
       "      <th></th>\n",
       "      <th></th>\n",
       "      <th></th>\n",
       "      <th></th>\n",
       "      <th></th>\n",
       "      <th></th>\n",
       "    </tr>\n",
       "  </thead>\n",
       "  <tbody>\n",
       "    <tr>\n",
       "      <th rowspan=\"4\" valign=\"top\">5</th>\n",
       "      <th rowspan=\"4\" valign=\"top\">0.332</th>\n",
       "      <th>acc@K</th>\n",
       "      <td>0.164768</td>\n",
       "      <td>0.188431</td>\n",
       "      <td>0.196480</td>\n",
       "      <td>0.218639</td>\n",
       "      <td>0.204126</td>\n",
       "      <td>0.190096</td>\n",
       "      <td>0.180505</td>\n",
       "      <td>0.170306</td>\n",
       "      <td>0.163290</td>\n",
       "      <td>0.153961</td>\n",
       "    </tr>\n",
       "    <tr>\n",
       "      <th>prec@K</th>\n",
       "      <td>0.164768</td>\n",
       "      <td>0.243646</td>\n",
       "      <td>0.255916</td>\n",
       "      <td>0.265995</td>\n",
       "      <td>0.240841</td>\n",
       "      <td>0.217207</td>\n",
       "      <td>0.200075</td>\n",
       "      <td>0.185692</td>\n",
       "      <td>0.175090</td>\n",
       "      <td>0.163190</td>\n",
       "    </tr>\n",
       "    <tr>\n",
       "      <th>recall@K</th>\n",
       "      <td>0.164768</td>\n",
       "      <td>0.287467</td>\n",
       "      <td>0.352469</td>\n",
       "      <td>0.442083</td>\n",
       "      <td>0.493865</td>\n",
       "      <td>0.527213</td>\n",
       "      <td>0.560745</td>\n",
       "      <td>0.598366</td>\n",
       "      <td>0.632826</td>\n",
       "      <td>0.655876</td>\n",
       "    </tr>\n",
       "    <tr>\n",
       "      <th>f1@K</th>\n",
       "      <td>0.164768</td>\n",
       "      <td>0.258253</td>\n",
       "      <td>0.283932</td>\n",
       "      <td>0.315306</td>\n",
       "      <td>0.306049</td>\n",
       "      <td>0.291563</td>\n",
       "      <td>0.280501</td>\n",
       "      <td>0.270405</td>\n",
       "      <td>0.262649</td>\n",
       "      <td>0.250919</td>\n",
       "    </tr>\n",
       "  </tbody>\n",
       "</table>\n",
       "</div>"
      ],
      "text/plain": [
       "                                     K=1       K=2       K=3       K=4  \\\n",
       "time_delta, min MRR                                                      \n",
       "5               0.332 acc@K     0.164768  0.188431  0.196480  0.218639   \n",
       "                      prec@K    0.164768  0.243646  0.255916  0.265995   \n",
       "                      recall@K  0.164768  0.287467  0.352469  0.442083   \n",
       "                      f1@K      0.164768  0.258253  0.283932  0.315306   \n",
       "\n",
       "                                     K=5       K=6       K=7       K=8  \\\n",
       "time_delta, min MRR                                                      \n",
       "5               0.332 acc@K     0.204126  0.190096  0.180505  0.170306   \n",
       "                      prec@K    0.240841  0.217207  0.200075  0.185692   \n",
       "                      recall@K  0.493865  0.527213  0.560745  0.598366   \n",
       "                      f1@K      0.306049  0.291563  0.280501  0.270405   \n",
       "\n",
       "                                     K=9      K=10  \n",
       "time_delta, min MRR                                 \n",
       "5               0.332 acc@K     0.163290  0.153961  \n",
       "                      prec@K    0.175090  0.163190  \n",
       "                      recall@K  0.632826  0.655876  \n",
       "                      f1@K      0.262649  0.250919  "
      ]
     },
     "execution_count": 36,
     "metadata": {},
     "output_type": "execute_result"
    }
   ],
   "source": [
    "cur_res.set_index(['time_delta, min', 'MRR', cur_res.index])"
   ]
  }
 ],
 "metadata": {
  "kernelspec": {
   "display_name": "Python 3",
   "language": "python",
   "name": "python3"
  },
  "language_info": {
   "codemirror_mode": {
    "name": "ipython",
    "version": 3
   },
   "file_extension": ".py",
   "mimetype": "text/x-python",
   "name": "python",
   "nbconvert_exporter": "python",
   "pygments_lexer": "ipython3",
   "version": "3.8.1"
  },
  "toc": {
   "base_numbering": 1,
   "nav_menu": {},
   "number_sections": true,
   "sideBar": true,
   "skip_h1_title": false,
   "title_cell": "Table of Contents",
   "title_sidebar": "Contents",
   "toc_cell": false,
   "toc_position": {},
   "toc_section_display": true,
   "toc_window_display": false
  },
  "varInspector": {
   "cols": {
    "lenName": 16,
    "lenType": 16,
    "lenVar": 40
   },
   "kernels_config": {
    "python": {
     "delete_cmd_postfix": "",
     "delete_cmd_prefix": "del ",
     "library": "var_list.py",
     "varRefreshCmd": "print(var_dic_list())"
    },
    "r": {
     "delete_cmd_postfix": ") ",
     "delete_cmd_prefix": "rm(",
     "library": "var_list.r",
     "varRefreshCmd": "cat(var_dic_list()) "
    }
   },
   "types_to_exclude": [
    "module",
    "function",
    "builtin_function_or_method",
    "instance",
    "_Feature"
   ],
   "window_display": false
  }
 },
 "nbformat": 4,
 "nbformat_minor": 4
}
